{
 "cells": [
  {
   "cell_type": "code",
   "execution_count": 1,
   "id": "c2ef4338",
   "metadata": {},
   "outputs": [
    {
     "name": "stdout",
     "output_type": "stream",
     "text": [
      "Using device: cuda\n"
     ]
    }
   ],
   "source": [
    "from pathlib import Path\n",
    "from PIL import Image\n",
    "import torch\n",
    "from torch.utils.data import IterableDataset\n",
    "import torchvision.transforms as T\n",
    "\n",
    "DEVICE = torch.device('cuda' if torch.cuda.is_available() else 'cpu')\n",
    "print(f\"Using device: {DEVICE}\")\n",
    "\n",
    "def load_png(path) -> Image:\n",
    "    \"\"\"\n",
    "    Loads an PNG image replacing the alpha background with a neutral gray.\n",
    "    Result is returned in RGB\n",
    "    \"\"\"\n",
    "    image = Image.open(path).convert('RGBA')\n",
    "    bg = Image.new('RGB', image.size, (128, 128, 128))\n",
    "    image_rgb = Image.alpha_composite(bg.convert('RGBA'), image).convert('RGB')\n",
    "    return image_rgb\n",
    "\n",
    "def image_to_tensor(image: Image) -> torch.Tensor:\n",
    "    \"\"\"Converts an RGB image to a Tensor\"\"\"\n",
    "    transform = T.Compose([\n",
    "        T.ToTensor(),\n",
    "        T.Lambda(lambda t: 2.0 * t - 1.0)\n",
    "    ])\n",
    "    x = transform(image)\n",
    "    return x.unsqueeze(0).to(DEVICE)\n",
    "\n",
    "class PixelPoseDataset(IterableDataset):\n",
    "    def __init__(self, character_dir: Path, vae_model, clip_model, clip_preprocess):\n",
    "        self.character_dir = character_dir\n",
    "        self.vae_model = vae_model\n",
    "        self.clip_model = clip_model\n",
    "        self.clip_preprocess = clip_preprocess\n",
    "    \n",
    "    def __iter__(self):\n",
    "        for character in self.character_dir.iterdir():\n",
    "            for animation in character.iterdir():\n",
    "                frames_dir = animation / 'frames'\n",
    "                poses_dir = animation / 'poses'\n",
    "\n",
    "                if frames_dir.exists() and poses_dir.exists():\n",
    "                    ref_vae_tensor, ref_clip_tensor = None, None\n",
    "                    for frame, pose in zip(frames_dir.iterdir(), poses_dir.iterdir()):\n",
    "                        # Load frame\n",
    "                        frame_img = load_png(frame)\n",
    "\n",
    "                        # Load target\n",
    "                        target_tensor = image_to_tensor(frame_img)\n",
    "\n",
    "                        # If this is the first frame, encode and store as the reference\n",
    "                        if ref_vae_tensor is None:\n",
    "                            with torch.no_grad():\n",
    "                                ref_vae_tensor = self._encode_frame_vae(frame_img)\n",
    "                                ref_clip_tensor = self._encode_frame_clip(frame_img)\n",
    "                        \n",
    "                        # Load pose\n",
    "                        pose_img = load_png(pose)\n",
    "                        pose_tensor = image_to_tensor(pose_img)\n",
    "\n",
    "                        yield {\n",
    "                            'reference_vae': ref_vae_tensor,\n",
    "                            'reference_clip': ref_clip_tensor,\n",
    "                            'pose': pose_tensor,\n",
    "                            'target': target_tensor\n",
    "                        }\n",
    "    \n",
    "    def _encode_frame_vae(self, frame: Image) -> torch.Tensor:\n",
    "        # Compute latent with the vae\n",
    "        x = image_to_tensor(frame)\n",
    "        z = self.vae_model.encode(x).latent_dist.sample() # performs the reparameterization trick for us\n",
    "        z *= self.vae_model.config.scaling_factor\n",
    "        return z\n",
    "    \n",
    "    def _encode_frame_clip(self, frame: Image) -> torch.Tensor:\n",
    "        x = self.clip_preprocess(frame).unsqueeze(0).to(DEVICE)\n",
    "        features = self.clip_model.encode_image(x)\n",
    "        features /= features.norm(dim=-1, keepdim=True) # Normalize\n",
    "        return features"
   ]
  },
  {
   "cell_type": "code",
   "execution_count": 2,
   "id": "ccde8ac5",
   "metadata": {},
   "outputs": [],
   "source": [
    "from diffusers import AutoencoderKL\n",
    "import open_clip\n",
    "\n",
    "# VAE\n",
    "vae_model = AutoencoderKL.from_pretrained('stabilityai/stable-diffusion-3.5-large',\n",
    "                                          subfolder='vae')\n",
    "vae_model.eval()\n",
    "vae_model = vae_model.to(DEVICE)\n",
    "\n",
    "# CLIP\n",
    "clip_model, clip_preprocess = open_clip.create_model_from_pretrained('hf-hub:laion/CLIP-ViT-B-32-laion2B-s34B-b79K')\n",
    "clip_model.eval()\n",
    "clip_model = clip_model.to(DEVICE)"
   ]
  },
  {
   "cell_type": "code",
   "execution_count": 3,
   "id": "d0467c2e",
   "metadata": {},
   "outputs": [
    {
     "name": "stderr",
     "output_type": "stream",
     "text": [
      "20185it [01:22, 245.62it/s]\n"
     ]
    },
    {
     "ename": "KeyboardInterrupt",
     "evalue": "",
     "output_type": "error",
     "traceback": [
      "\u001b[31m---------------------------------------------------------------------------\u001b[39m",
      "\u001b[31mKeyboardInterrupt\u001b[39m                         Traceback (most recent call last)",
      "\u001b[36mCell\u001b[39m\u001b[36m \u001b[39m\u001b[32mIn[3]\u001b[39m\u001b[32m, line 17\u001b[39m\n\u001b[32m     14\u001b[39m buffer = []\n\u001b[32m     16\u001b[39m \u001b[38;5;28;01mwith\u001b[39;00m tqdm() \u001b[38;5;28;01mas\u001b[39;00m pbar:\n\u001b[32m---> \u001b[39m\u001b[32m17\u001b[39m \u001b[43m    \u001b[49m\u001b[38;5;28;43;01mfor\u001b[39;49;00m\u001b[43m \u001b[49m\u001b[43mi\u001b[49m\u001b[43m,\u001b[49m\u001b[43m \u001b[49m\u001b[43mdata\u001b[49m\u001b[43m \u001b[49m\u001b[38;5;129;43;01min\u001b[39;49;00m\u001b[43m \u001b[49m\u001b[38;5;28;43menumerate\u001b[39;49m\u001b[43m(\u001b[49m\u001b[43mloader\u001b[49m\u001b[43m)\u001b[49m\u001b[43m:\u001b[49m\n\u001b[32m     18\u001b[39m \u001b[43m        \u001b[49m\u001b[43mdata_cpu\u001b[49m\u001b[43m \u001b[49m\u001b[43m=\u001b[49m\u001b[43m \u001b[49m\u001b[43m{\u001b[49m\u001b[43mk\u001b[49m\u001b[43m:\u001b[49m\u001b[43m \u001b[49m\u001b[43mv\u001b[49m\u001b[43m.\u001b[49m\u001b[43mcpu\u001b[49m\u001b[43m(\u001b[49m\u001b[43m)\u001b[49m\u001b[43m \u001b[49m\u001b[38;5;28;43;01mfor\u001b[39;49;00m\u001b[43m \u001b[49m\u001b[43mk\u001b[49m\u001b[43m,\u001b[49m\u001b[43m \u001b[49m\u001b[43mv\u001b[49m\u001b[43m \u001b[49m\u001b[38;5;129;43;01min\u001b[39;49;00m\u001b[43m \u001b[49m\u001b[43mdata\u001b[49m\u001b[43m.\u001b[49m\u001b[43mitems\u001b[49m\u001b[43m(\u001b[49m\u001b[43m)\u001b[49m\u001b[43m}\u001b[49m\n\u001b[32m     19\u001b[39m \u001b[43m        \u001b[49m\u001b[43mbuffer\u001b[49m\u001b[43m.\u001b[49m\u001b[43mappend\u001b[49m\u001b[43m(\u001b[49m\u001b[43mdata_cpu\u001b[49m\u001b[43m)\u001b[49m\u001b[43m  \u001b[49m\u001b[38;5;66;43;03m# keep only CPU tensors in memory\u001b[39;49;00m\n",
      "\u001b[36mFile \u001b[39m\u001b[32m~/Dev/pixelpose/.venv/lib/python3.13/site-packages/torch/utils/data/dataloader.py:734\u001b[39m, in \u001b[36m_BaseDataLoaderIter.__next__\u001b[39m\u001b[34m(self)\u001b[39m\n\u001b[32m    731\u001b[39m \u001b[38;5;28;01mif\u001b[39;00m \u001b[38;5;28mself\u001b[39m._sampler_iter \u001b[38;5;129;01mis\u001b[39;00m \u001b[38;5;28;01mNone\u001b[39;00m:\n\u001b[32m    732\u001b[39m     \u001b[38;5;66;03m# TODO(https://github.com/pytorch/pytorch/issues/76750)\u001b[39;00m\n\u001b[32m    733\u001b[39m     \u001b[38;5;28mself\u001b[39m._reset()  \u001b[38;5;66;03m# type: ignore[call-arg]\u001b[39;00m\n\u001b[32m--> \u001b[39m\u001b[32m734\u001b[39m data = \u001b[38;5;28;43mself\u001b[39;49m\u001b[43m.\u001b[49m\u001b[43m_next_data\u001b[49m\u001b[43m(\u001b[49m\u001b[43m)\u001b[49m\n\u001b[32m    735\u001b[39m \u001b[38;5;28mself\u001b[39m._num_yielded += \u001b[32m1\u001b[39m\n\u001b[32m    736\u001b[39m \u001b[38;5;28;01mif\u001b[39;00m (\n\u001b[32m    737\u001b[39m     \u001b[38;5;28mself\u001b[39m._dataset_kind == _DatasetKind.Iterable\n\u001b[32m    738\u001b[39m     \u001b[38;5;129;01mand\u001b[39;00m \u001b[38;5;28mself\u001b[39m._IterableDataset_len_called \u001b[38;5;129;01mis\u001b[39;00m \u001b[38;5;129;01mnot\u001b[39;00m \u001b[38;5;28;01mNone\u001b[39;00m\n\u001b[32m    739\u001b[39m     \u001b[38;5;129;01mand\u001b[39;00m \u001b[38;5;28mself\u001b[39m._num_yielded > \u001b[38;5;28mself\u001b[39m._IterableDataset_len_called\n\u001b[32m    740\u001b[39m ):\n",
      "\u001b[36mFile \u001b[39m\u001b[32m~/Dev/pixelpose/.venv/lib/python3.13/site-packages/torch/utils/data/dataloader.py:790\u001b[39m, in \u001b[36m_SingleProcessDataLoaderIter._next_data\u001b[39m\u001b[34m(self)\u001b[39m\n\u001b[32m    788\u001b[39m \u001b[38;5;28;01mdef\u001b[39;00m\u001b[38;5;250m \u001b[39m\u001b[34m_next_data\u001b[39m(\u001b[38;5;28mself\u001b[39m):\n\u001b[32m    789\u001b[39m     index = \u001b[38;5;28mself\u001b[39m._next_index()  \u001b[38;5;66;03m# may raise StopIteration\u001b[39;00m\n\u001b[32m--> \u001b[39m\u001b[32m790\u001b[39m     data = \u001b[38;5;28;43mself\u001b[39;49m\u001b[43m.\u001b[49m\u001b[43m_dataset_fetcher\u001b[49m\u001b[43m.\u001b[49m\u001b[43mfetch\u001b[49m\u001b[43m(\u001b[49m\u001b[43mindex\u001b[49m\u001b[43m)\u001b[49m  \u001b[38;5;66;03m# may raise StopIteration\u001b[39;00m\n\u001b[32m    791\u001b[39m     \u001b[38;5;28;01mif\u001b[39;00m \u001b[38;5;28mself\u001b[39m._pin_memory:\n\u001b[32m    792\u001b[39m         data = _utils.pin_memory.pin_memory(data, \u001b[38;5;28mself\u001b[39m._pin_memory_device)\n",
      "\u001b[36mFile \u001b[39m\u001b[32m~/Dev/pixelpose/.venv/lib/python3.13/site-packages/torch/utils/data/_utils/fetch.py:33\u001b[39m, in \u001b[36m_IterableDatasetFetcher.fetch\u001b[39m\u001b[34m(self, possibly_batched_index)\u001b[39m\n\u001b[32m     31\u001b[39m \u001b[38;5;28;01mfor\u001b[39;00m _ \u001b[38;5;129;01min\u001b[39;00m possibly_batched_index:\n\u001b[32m     32\u001b[39m     \u001b[38;5;28;01mtry\u001b[39;00m:\n\u001b[32m---> \u001b[39m\u001b[32m33\u001b[39m         data.append(\u001b[38;5;28;43mnext\u001b[39;49m\u001b[43m(\u001b[49m\u001b[38;5;28;43mself\u001b[39;49m\u001b[43m.\u001b[49m\u001b[43mdataset_iter\u001b[49m\u001b[43m)\u001b[49m)\n\u001b[32m     34\u001b[39m     \u001b[38;5;28;01mexcept\u001b[39;00m \u001b[38;5;167;01mStopIteration\u001b[39;00m:\n\u001b[32m     35\u001b[39m         \u001b[38;5;28mself\u001b[39m.ended = \u001b[38;5;28;01mTrue\u001b[39;00m\n",
      "\u001b[36mCell\u001b[39m\u001b[36m \u001b[39m\u001b[32mIn[1]\u001b[39m\u001b[32m, line 55\u001b[39m, in \u001b[36mPixelPoseDataset.__iter__\u001b[39m\u001b[34m(self)\u001b[39m\n\u001b[32m     53\u001b[39m     \u001b[38;5;28;01mwith\u001b[39;00m torch.no_grad():\n\u001b[32m     54\u001b[39m         ref_vae_tensor = \u001b[38;5;28mself\u001b[39m._encode_frame_vae(frame_img)\n\u001b[32m---> \u001b[39m\u001b[32m55\u001b[39m         ref_clip_tensor = \u001b[38;5;28;43mself\u001b[39;49m\u001b[43m.\u001b[49m\u001b[43m_encode_frame_clip\u001b[49m\u001b[43m(\u001b[49m\u001b[43mframe_img\u001b[49m\u001b[43m)\u001b[49m\n\u001b[32m     57\u001b[39m \u001b[38;5;66;03m# Load pose\u001b[39;00m\n\u001b[32m     58\u001b[39m pose_img = load_png(pose)\n",
      "\u001b[36mCell\u001b[39m\u001b[36m \u001b[39m\u001b[32mIn[1]\u001b[39m\u001b[32m, line 76\u001b[39m, in \u001b[36mPixelPoseDataset._encode_frame_clip\u001b[39m\u001b[34m(self, frame)\u001b[39m\n\u001b[32m     75\u001b[39m \u001b[38;5;28;01mdef\u001b[39;00m\u001b[38;5;250m \u001b[39m\u001b[34m_encode_frame_clip\u001b[39m(\u001b[38;5;28mself\u001b[39m, frame: Image) -> torch.Tensor:\n\u001b[32m---> \u001b[39m\u001b[32m76\u001b[39m     x = \u001b[38;5;28;43mself\u001b[39;49m\u001b[43m.\u001b[49m\u001b[43mclip_preprocess\u001b[49m\u001b[43m(\u001b[49m\u001b[43mframe\u001b[49m\u001b[43m)\u001b[49m\u001b[43m.\u001b[49m\u001b[43munsqueeze\u001b[49m\u001b[43m(\u001b[49m\u001b[32;43m0\u001b[39;49m\u001b[43m)\u001b[49m\u001b[43m.\u001b[49m\u001b[43mto\u001b[49m\u001b[43m(\u001b[49m\u001b[43mDEVICE\u001b[49m\u001b[43m)\u001b[49m\n\u001b[32m     77\u001b[39m     features = \u001b[38;5;28mself\u001b[39m.clip_model.encode_image(x)\n\u001b[32m     78\u001b[39m     features /= features.norm(dim=-\u001b[32m1\u001b[39m, keepdim=\u001b[38;5;28;01mTrue\u001b[39;00m) \u001b[38;5;66;03m# Normalize\u001b[39;00m\n",
      "\u001b[31mKeyboardInterrupt\u001b[39m: "
     ]
    }
   ],
   "source": [
    "from tqdm import tqdm\n",
    "from torch.utils.data import DataLoader\n",
    "\n",
    "dataset = PixelPoseDataset(Path('/home/gbear/Dev/pixelpose/results'),\n",
    "                                vae_model=vae_model,\n",
    "                                clip_model=clip_model,\n",
    "                                clip_preprocess=clip_preprocess)\n",
    "loader = DataLoader(dataset)\n",
    "\n",
    "out_dir = Path('trainset')\n",
    "out_dir.mkdir(exist_ok=True)\n",
    "\n",
    "chunk_size = 500\n",
    "buffer = []\n",
    "\n",
    "with tqdm() as pbar:\n",
    "    for i, data in enumerate(loader):\n",
    "        data_cpu = {k: v.cpu() for k, v in data.items()}\n",
    "        buffer.append(data_cpu)  # keep only CPU tensors in memory\n",
    "        if len(buffer) == chunk_size:\n",
    "            torch.save(buffer, out_dir / f'{i//chunk_size:04d}.pt')\n",
    "            buffer = []\n",
    "            torch.cuda.empty_cache()\n",
    "        pbar.update(1)\n",
    "\n",
    "if len(buffer) > 0:\n",
    "    torch.save(buffer, out_dir / f'{i//chunk_size:04d}.pt')"
   ]
  }
 ],
 "metadata": {
  "kernelspec": {
   "display_name": ".venv",
   "language": "python",
   "name": "python3"
  },
  "language_info": {
   "codemirror_mode": {
    "name": "ipython",
    "version": 3
   },
   "file_extension": ".py",
   "mimetype": "text/x-python",
   "name": "python",
   "nbconvert_exporter": "python",
   "pygments_lexer": "ipython3",
   "version": "3.13.5"
  }
 },
 "nbformat": 4,
 "nbformat_minor": 5
}
